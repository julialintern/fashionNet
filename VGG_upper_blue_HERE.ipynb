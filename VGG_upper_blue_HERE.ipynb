{
 "cells": [
  {
   "cell_type": "code",
   "execution_count": null,
   "metadata": {
    "collapsed": true
   },
   "outputs": [],
   "source": [
    "# steps: add eval generator, \n",
    "# add batches, start to get score ? \n",
    "# add refined losses\n",
    "\n",
    "\n",
    "### Issues: Tensorflow can't find GPU; possible solutions: retry old install.. "
   ]
  },
  {
   "cell_type": "code",
   "execution_count": 1,
   "metadata": {},
   "outputs": [
    {
     "name": "stderr",
     "output_type": "stream",
     "text": [
      "Using Theano backend.\n",
      "WARNING (theano.sandbox.cuda): The cuda backend is deprecated and will be removed in the next release (v0.10).  Please switch to the gpuarray backend. You can get more information about how to switch at this URL:\n",
      " https://github.com/Theano/Theano/wiki/Converting-to-the-new-gpu-back-end%28gpuarray%29\n",
      "\n",
      "Using gpu device 0: GRID K520 (CNMeM is disabled, cuDNN 5110)\n"
     ]
    }
   ],
   "source": [
    "from __future__ import division\n",
    "\n",
    "import keras\n",
    "from keras.models import Model\n",
    "from keras.layers import Input, Dense, Activation, Flatten, Convolution2D, MaxPooling2D, ZeroPadding2D\n",
    "#from keras.utils.visualize_util import plot\"\n",
    "from keras.utils import np_utils\n",
    "\n",
    "from keras.utils.vis_utils import model_to_dot, plot_model\n",
    "from IPython.display import SVG\n",
    "\n",
    "import matplotlib.pyplot as plt\n",
    "\n",
    "import pandas as pd\n",
    "import numpy as np\n",
    "#keras.backend.image_dim_ordering='th'\n",
    "\n",
    "\n",
    "from keras import backend as K\n",
    "import theano\n",
    "theano.config.optimizer='fast_compile'\n",
    "#theano.config.exception_verbosity='high'\n",
    "#theano.config.compute_test_value = 'warn'"
   ]
  },
  {
   "cell_type": "markdown",
   "metadata": {},
   "source": [
    "#### Step 1: Import Data  (with image path & target array) "
   ]
  },
  {
   "cell_type": "code",
   "execution_count": null,
   "metadata": {},
   "outputs": [],
   "source": [
    "keras.__version__"
   ]
  },
  {
   "cell_type": "markdown",
   "metadata": {},
   "source": [
    "### Start here"
   ]
  },
  {
   "cell_type": "code",
   "execution_count": 2,
   "metadata": {
    "collapsed": true
   },
   "outputs": [],
   "source": [
    "train_index=pd.read_csv('final_csv.csv')"
   ]
  },
  {
   "cell_type": "code",
   "execution_count": 3,
   "metadata": {},
   "outputs": [
    {
     "data": {
      "text/html": [
       "<div>\n",
       "<style>\n",
       "    .dataframe thead tr:only-child th {\n",
       "        text-align: right;\n",
       "    }\n",
       "\n",
       "    .dataframe thead th {\n",
       "        text-align: left;\n",
       "    }\n",
       "\n",
       "    .dataframe tbody tr th {\n",
       "        vertical-align: top;\n",
       "    }\n",
       "</style>\n",
       "<table border=\"1\" class=\"dataframe\">\n",
       "  <thead>\n",
       "    <tr style=\"text-align: right;\">\n",
       "      <th></th>\n",
       "      <th>image</th>\n",
       "      <th>image_name</th>\n",
       "      <th>clothes_type</th>\n",
       "      <th>variation_type</th>\n",
       "      <th>landmark_visibility_1</th>\n",
       "      <th>landmark_location_x_1</th>\n",
       "      <th>landmark_location_y_1</th>\n",
       "      <th>landmark_visibility_2</th>\n",
       "      <th>landmark_location_x_2</th>\n",
       "      <th>landmark_location_y_2</th>\n",
       "      <th>...</th>\n",
       "      <th>landmark_location_y_3_sld</th>\n",
       "      <th>landmark_location_x_4_sld</th>\n",
       "      <th>landmark_location_y_4_sld</th>\n",
       "      <th>landmark_location_x_5_sld</th>\n",
       "      <th>landmark_location_y_5_sld</th>\n",
       "      <th>landmark_location_x_6_sld</th>\n",
       "      <th>landmark_location_y_6_sld</th>\n",
       "      <th>lms</th>\n",
       "      <th>evaluation_status</th>\n",
       "      <th>file</th>\n",
       "    </tr>\n",
       "    <tr>\n",
       "      <th>path</th>\n",
       "      <th></th>\n",
       "      <th></th>\n",
       "      <th></th>\n",
       "      <th></th>\n",
       "      <th></th>\n",
       "      <th></th>\n",
       "      <th></th>\n",
       "      <th></th>\n",
       "      <th></th>\n",
       "      <th></th>\n",
       "      <th></th>\n",
       "      <th></th>\n",
       "      <th></th>\n",
       "      <th></th>\n",
       "      <th></th>\n",
       "      <th></th>\n",
       "      <th></th>\n",
       "      <th></th>\n",
       "      <th></th>\n",
       "      <th></th>\n",
       "      <th></th>\n",
       "    </tr>\n",
       "  </thead>\n",
       "  <tbody>\n",
       "    <tr>\n",
       "      <th>train/img_00000001.jpg</th>\n",
       "      <td>img_00000001.jpg</td>\n",
       "      <td>img/img_00000001.jpg</td>\n",
       "      <td>1</td>\n",
       "      <td>1</td>\n",
       "      <td>0</td>\n",
       "      <td>144</td>\n",
       "      <td>156</td>\n",
       "      <td>0</td>\n",
       "      <td>221</td>\n",
       "      <td>159</td>\n",
       "      <td>...</td>\n",
       "      <td>0.424361</td>\n",
       "      <td>0.490119</td>\n",
       "      <td>0.465483</td>\n",
       "      <td>0.225873</td>\n",
       "      <td>0.792829</td>\n",
       "      <td>0.469636</td>\n",
       "      <td>0.801193</td>\n",
       "      <td>[0.2993492407809111, 0.3681710213776722, 0.444...</td>\n",
       "      <td>train</td>\n",
       "      <td>train/img_00000001.jpg</td>\n",
       "    </tr>\n",
       "    <tr>\n",
       "      <th>val/img_00000002.jpg</th>\n",
       "      <td>img_00000002.jpg</td>\n",
       "      <td>img/img_00000002.jpg</td>\n",
       "      <td>1</td>\n",
       "      <td>3</td>\n",
       "      <td>1</td>\n",
       "      <td>111</td>\n",
       "      <td>104</td>\n",
       "      <td>0</td>\n",
       "      <td>153</td>\n",
       "      <td>105</td>\n",
       "      <td>...</td>\n",
       "      <td>0.282908</td>\n",
       "      <td>0.353755</td>\n",
       "      <td>0.317554</td>\n",
       "      <td>0.170431</td>\n",
       "      <td>0.354582</td>\n",
       "      <td>0.267206</td>\n",
       "      <td>0.375746</td>\n",
       "      <td>[0.227765726681128, 0.24465558194774348, 0.298...</td>\n",
       "      <td>val</td>\n",
       "      <td>val/img_00000002.jpg</td>\n",
       "    </tr>\n",
       "    <tr>\n",
       "      <th>train/img_00000003.jpg</th>\n",
       "      <td>img_00000003.jpg</td>\n",
       "      <td>img/img_00000003.jpg</td>\n",
       "      <td>1</td>\n",
       "      <td>1</td>\n",
       "      <td>1</td>\n",
       "      <td>112</td>\n",
       "      <td>113</td>\n",
       "      <td>0</td>\n",
       "      <td>172</td>\n",
       "      <td>117</td>\n",
       "      <td>...</td>\n",
       "      <td>0.330059</td>\n",
       "      <td>0.411067</td>\n",
       "      <td>0.339250</td>\n",
       "      <td>0.205339</td>\n",
       "      <td>0.531873</td>\n",
       "      <td>0.368421</td>\n",
       "      <td>0.502982</td>\n",
       "      <td>[0.2299349240780911, 0.2660332541567696, 0.339...</td>\n",
       "      <td>train</td>\n",
       "      <td>train/img_00000003.jpg</td>\n",
       "    </tr>\n",
       "    <tr>\n",
       "      <th>train/img_00000004.jpg</th>\n",
       "      <td>img_00000004.jpg</td>\n",
       "      <td>img/img_00000004.jpg</td>\n",
       "      <td>1</td>\n",
       "      <td>2</td>\n",
       "      <td>1</td>\n",
       "      <td>76</td>\n",
       "      <td>74</td>\n",
       "      <td>1</td>\n",
       "      <td>108</td>\n",
       "      <td>69</td>\n",
       "      <td>...</td>\n",
       "      <td>0.220039</td>\n",
       "      <td>0.276680</td>\n",
       "      <td>0.193294</td>\n",
       "      <td>0.133470</td>\n",
       "      <td>0.326693</td>\n",
       "      <td>0.244939</td>\n",
       "      <td>0.320080</td>\n",
       "      <td>[0.15184381778741865, 0.17339667458432304, 0.2...</td>\n",
       "      <td>train</td>\n",
       "      <td>train/img_00000004.jpg</td>\n",
       "    </tr>\n",
       "    <tr>\n",
       "      <th>train/img_00000005.jpg</th>\n",
       "      <td>img_00000005.jpg</td>\n",
       "      <td>img/img_00000005.jpg</td>\n",
       "      <td>1</td>\n",
       "      <td>1</td>\n",
       "      <td>1</td>\n",
       "      <td>217</td>\n",
       "      <td>139</td>\n",
       "      <td>1</td>\n",
       "      <td>290</td>\n",
       "      <td>156</td>\n",
       "      <td>...</td>\n",
       "      <td>0.434185</td>\n",
       "      <td>0.644269</td>\n",
       "      <td>0.489152</td>\n",
       "      <td>0.373717</td>\n",
       "      <td>0.605578</td>\n",
       "      <td>0.615385</td>\n",
       "      <td>0.604374</td>\n",
       "      <td>[0.45770065075921906, 0.32779097387173395, 0.5...</td>\n",
       "      <td>train</td>\n",
       "      <td>train/img_00000005.jpg</td>\n",
       "    </tr>\n",
       "  </tbody>\n",
       "</table>\n",
       "<p>5 rows × 43 columns</p>\n",
       "</div>"
      ],
      "text/plain": [
       "                                   image            image_name  clothes_type  \\\n",
       "path                                                                           \n",
       "train/img_00000001.jpg  img_00000001.jpg  img/img_00000001.jpg             1   \n",
       "val/img_00000002.jpg    img_00000002.jpg  img/img_00000002.jpg             1   \n",
       "train/img_00000003.jpg  img_00000003.jpg  img/img_00000003.jpg             1   \n",
       "train/img_00000004.jpg  img_00000004.jpg  img/img_00000004.jpg             1   \n",
       "train/img_00000005.jpg  img_00000005.jpg  img/img_00000005.jpg             1   \n",
       "\n",
       "                        variation_type  landmark_visibility_1  \\\n",
       "path                                                            \n",
       "train/img_00000001.jpg               1                      0   \n",
       "val/img_00000002.jpg                 3                      1   \n",
       "train/img_00000003.jpg               1                      1   \n",
       "train/img_00000004.jpg               2                      1   \n",
       "train/img_00000005.jpg               1                      1   \n",
       "\n",
       "                        landmark_location_x_1  landmark_location_y_1  \\\n",
       "path                                                                   \n",
       "train/img_00000001.jpg                    144                    156   \n",
       "val/img_00000002.jpg                      111                    104   \n",
       "train/img_00000003.jpg                    112                    113   \n",
       "train/img_00000004.jpg                     76                     74   \n",
       "train/img_00000005.jpg                    217                    139   \n",
       "\n",
       "                        landmark_visibility_2  landmark_location_x_2  \\\n",
       "path                                                                   \n",
       "train/img_00000001.jpg                      0                    221   \n",
       "val/img_00000002.jpg                        0                    153   \n",
       "train/img_00000003.jpg                      0                    172   \n",
       "train/img_00000004.jpg                      1                    108   \n",
       "train/img_00000005.jpg                      1                    290   \n",
       "\n",
       "                        landmark_location_y_2           ...            \\\n",
       "path                                                    ...             \n",
       "train/img_00000001.jpg                    159           ...             \n",
       "val/img_00000002.jpg                      105           ...             \n",
       "train/img_00000003.jpg                    117           ...             \n",
       "train/img_00000004.jpg                     69           ...             \n",
       "train/img_00000005.jpg                    156           ...             \n",
       "\n",
       "                        landmark_location_y_3_sld  landmark_location_x_4_sld  \\\n",
       "path                                                                           \n",
       "train/img_00000001.jpg                   0.424361                   0.490119   \n",
       "val/img_00000002.jpg                     0.282908                   0.353755   \n",
       "train/img_00000003.jpg                   0.330059                   0.411067   \n",
       "train/img_00000004.jpg                   0.220039                   0.276680   \n",
       "train/img_00000005.jpg                   0.434185                   0.644269   \n",
       "\n",
       "                        landmark_location_y_4_sld  landmark_location_x_5_sld  \\\n",
       "path                                                                           \n",
       "train/img_00000001.jpg                   0.465483                   0.225873   \n",
       "val/img_00000002.jpg                     0.317554                   0.170431   \n",
       "train/img_00000003.jpg                   0.339250                   0.205339   \n",
       "train/img_00000004.jpg                   0.193294                   0.133470   \n",
       "train/img_00000005.jpg                   0.489152                   0.373717   \n",
       "\n",
       "                        landmark_location_y_5_sld  landmark_location_x_6_sld  \\\n",
       "path                                                                           \n",
       "train/img_00000001.jpg                   0.792829                   0.469636   \n",
       "val/img_00000002.jpg                     0.354582                   0.267206   \n",
       "train/img_00000003.jpg                   0.531873                   0.368421   \n",
       "train/img_00000004.jpg                   0.326693                   0.244939   \n",
       "train/img_00000005.jpg                   0.605578                   0.615385   \n",
       "\n",
       "                        landmark_location_y_6_sld  \\\n",
       "path                                                \n",
       "train/img_00000001.jpg                   0.801193   \n",
       "val/img_00000002.jpg                     0.375746   \n",
       "train/img_00000003.jpg                   0.502982   \n",
       "train/img_00000004.jpg                   0.320080   \n",
       "train/img_00000005.jpg                   0.604374   \n",
       "\n",
       "                                                                      lms  \\\n",
       "path                                                                        \n",
       "train/img_00000001.jpg  [0.2993492407809111, 0.3681710213776722, 0.444...   \n",
       "val/img_00000002.jpg    [0.227765726681128, 0.24465558194774348, 0.298...   \n",
       "train/img_00000003.jpg  [0.2299349240780911, 0.2660332541567696, 0.339...   \n",
       "train/img_00000004.jpg  [0.15184381778741865, 0.17339667458432304, 0.2...   \n",
       "train/img_00000005.jpg  [0.45770065075921906, 0.32779097387173395, 0.5...   \n",
       "\n",
       "                        evaluation_status                    file  \n",
       "path                                                               \n",
       "train/img_00000001.jpg              train  train/img_00000001.jpg  \n",
       "val/img_00000002.jpg                  val    val/img_00000002.jpg  \n",
       "train/img_00000003.jpg              train  train/img_00000003.jpg  \n",
       "train/img_00000004.jpg              train  train/img_00000004.jpg  \n",
       "train/img_00000005.jpg              train  train/img_00000005.jpg  \n",
       "\n",
       "[5 rows x 43 columns]"
      ]
     },
     "execution_count": 3,
     "metadata": {},
     "output_type": "execute_result"
    }
   ],
   "source": [
    "train_index=train_index.set_index('path')\n",
    "train_index.head()"
   ]
  },
  {
   "cell_type": "code",
   "execution_count": 5,
   "metadata": {
    "collapsed": true
   },
   "outputs": [],
   "source": [
    "# normalizing landmark features\n",
    "def landmarks(df):\n",
    "    my_list=[df.landmark_location_x_1_sld,df.landmark_location_y_1_sld,df.landmark_location_x_2_sld,df.landmark_location_y_2_sld,\n",
    "             df.landmark_location_x_3_sld,df.landmark_location_y_3_sld,df.landmark_location_x_4_sld,df.landmark_location_y_4_sld,\n",
    "             df.landmark_location_x_5_sld,df.landmark_location_y_5_sld,df.landmark_location_x_6_sld,df.landmark_location_y_6_sld]\n",
    "    return my_list\n",
    "\n",
    "train_index['lms']=train_index.apply(landmarks,axis=1)\n",
    "\n",
    "\n",
    "Y1=train_index[['landmark_visibility_1']]\n",
    "Y2=train_index[['landmark_visibility_2']]\n",
    "Y3=train_index[['landmark_visibility_3']]\n",
    "Y4=train_index[['landmark_visibility_4']]\n",
    "Y5=train_index[['landmark_visibility_5']]\n",
    "Y6=train_index[['landmark_visibility_6']]"
   ]
  },
  {
   "cell_type": "code",
   "execution_count": null,
   "metadata": {},
   "outputs": [],
   "source": [
    "Y1.head()"
   ]
  },
  {
   "cell_type": "code",
   "execution_count": null,
   "metadata": {
    "collapsed": true
   },
   "outputs": [],
   "source": []
  },
  {
   "cell_type": "markdown",
   "metadata": {},
   "source": [
    "#### Step 2:  Try to Leverage pretrain.. "
   ]
  },
  {
   "cell_type": "code",
   "execution_count": 6,
   "metadata": {
    "collapsed": true
   },
   "outputs": [],
   "source": [
    "from keras.applications.vgg16 import VGG16\n",
    "from keras.models import Model\n",
    "from keras.layers import Dense\n",
    "\n",
    "vgg16 = VGG16(weights='imagenet')\n",
    "\n"
   ]
  },
  {
   "cell_type": "code",
   "execution_count": null,
   "metadata": {},
   "outputs": [],
   "source": [
    "SVG(model_to_dot(vgg16,show_shapes=True).create(prog='dot',format='svg'))"
   ]
  },
  {
   "cell_type": "markdown",
   "metadata": {},
   "source": [
    "###  Let's try to leverage transfer learning.. \n",
    " will freeze all convolultional layer, but will try to refine dense layer"
   ]
  },
  {
   "cell_type": "code",
   "execution_count": 7,
   "metadata": {
    "collapsed": true
   },
   "outputs": [],
   "source": [
    "# Freeze all layers for now.. \n",
    "for layer in vgg16.layers:\n",
    "    layer.trainable = False"
   ]
  },
  {
   "cell_type": "code",
   "execution_count": 8,
   "metadata": {
    "collapsed": true
   },
   "outputs": [],
   "source": [
    "# grab output directly after last conv layer\n",
    "convs = vgg16.get_layer('flatten').output\n"
   ]
  },
  {
   "cell_type": "code",
   "execution_count": 9,
   "metadata": {},
   "outputs": [
    {
     "name": "stderr",
     "output_type": "stream",
     "text": [
      "/usr/local/lib/python2.7/dist-packages/ipykernel_launcher.py:21: UserWarning: Update your `Model` call to the Keras 2 API: `Model(outputs=[Softmax.0..., inputs=/input_1)`\n"
     ]
    }
   ],
   "source": [
    "\n",
    "#create new layers\n",
    "new = Dense(4096, activation='relu', name='fc6_pose')(convs)\n",
    "new = Dense(4096, activation='relu', name='fc7_pose')(new)\n",
    "\n",
    "# predict locations\n",
    "\n",
    "# output : 2 visibility probabilities\n",
    "vis1 = Dense(2, activation='softmax', name='visibility1')(new)\n",
    "vis2 = Dense(2, activation='softmax', name='visibility2')(new)\n",
    "vis3 = Dense(2, activation='softmax', name='visibility3')(new)\n",
    "vis4 = Dense(2, activation='softmax', name='visibility4')(new)\n",
    "vis5 = Dense(2, activation='softmax', name='visibility5')(new)\n",
    "vis6 = Dense(2, activation='softmax', name='visibility6')(new)\n",
    "\n",
    "# landmark outputs\n",
    "lm=Dense(12,activation='linear',name='landmarks')(new)\n",
    "\n",
    "outputs=[vis1, vis2, vis3, vis4,vis5, vis6, lm]\n",
    "\n",
    "model = Model(input=vgg16.input, output=outputs)\n",
    "#model.summary()"
   ]
  },
  {
   "cell_type": "code",
   "execution_count": null,
   "metadata": {
    "collapsed": true
   },
   "outputs": [],
   "source": []
  },
  {
   "cell_type": "markdown",
   "metadata": {},
   "source": [
    "#### Blue Branch Losses\n",
    "- Regression loss for landmark localization & softmax for visibility\n",
    " - a) Modified L2 regression loss is ussed to localize landmarks\n",
    "   dot(vj,(lj_hat-lj)**2"
   ]
  },
  {
   "cell_type": "code",
   "execution_count": 10,
   "metadata": {
    "collapsed": true
   },
   "outputs": [],
   "source": [
    "from keras.preprocessing import image\n",
    "import keras.backend as K\n",
    "\n",
    "train_gen= keras.preprocessing.image.ImageDataGenerator(featurewise_center=False,\n",
    "    samplewise_center=False,\n",
    "    featurewise_std_normalization=False,\n",
    "    samplewise_std_normalization=False,\n",
    "    zca_whitening=False,\n",
    "    rotation_range=0.,\n",
    "    width_shift_range=0.,\n",
    "    height_shift_range=0.,\n",
    "    shear_range=0.,\n",
    "    zoom_range=0.,\n",
    "    channel_shift_range=0.,\n",
    "    fill_mode='nearest',\n",
    "    cval=0.,\n",
    "    horizontal_flip=False,\n",
    "    vertical_flip=False,\n",
    "    rescale=None)"
   ]
  },
  {
   "cell_type": "code",
   "execution_count": 11,
   "metadata": {},
   "outputs": [
    {
     "name": "stdout",
     "output_type": "stream",
     "text": [
      "Found 21488 images belonging to 1 classes.\n"
     ]
    }
   ],
   "source": [
    "# limiting batch size to 16 ~ due to GPU mem issues\n",
    "train_generator = train_gen.flow_from_directory(\n",
    "        '/home/ubuntu/upper/make_train',\n",
    "        target_size=(224, 224),\n",
    "        batch_size=16,\n",
    "        class_mode='sparse')"
   ]
  },
  {
   "cell_type": "code",
   "execution_count": 12,
   "metadata": {},
   "outputs": [
    {
     "name": "stdout",
     "output_type": "stream",
     "text": [
      "Found 5228 images belonging to 1 classes.\n"
     ]
    }
   ],
   "source": [
    "test_datagen = keras.preprocessing.image.ImageDataGenerator(rescale=1./255)\n",
    "\n",
    "test_generator = test_datagen.flow_from_directory(\n",
    "        '/home/ubuntu/upper/make_test',\n",
    "        target_size=(224, 224),\n",
    "        batch_size=16,\n",
    "        class_mode='sparse')\n"
   ]
  },
  {
   "cell_type": "markdown",
   "metadata": {},
   "source": [
    "#### Get All the Labels, \n",
    "Feed into model as numpy arrays"
   ]
  },
  {
   "cell_type": "code",
   "execution_count": 13,
   "metadata": {
    "collapsed": true
   },
   "outputs": [],
   "source": [
    "\n",
    "## Training & Test : get binary labels for visibility \n",
    "\n",
    "def get_labels(labels,generator):\n",
    "    # ex: all filenames of train_generator\n",
    "    get_list=generator.filenames\n",
    "    labs=labels.loc[get_list]\n",
    "    labs=labs.as_matrix()\n",
    "    labs=np_utils.to_categorical(labs)\n",
    "    return labs\n",
    "    \n",
    "\n",
    "# get all labels for occlusion\n",
    "train_lab_1=get_labels(Y1,train_generator)\n",
    "test_lab_1=get_labels(Y1,test_generator)\n",
    "\n",
    "train_lab_2=get_labels(Y2,train_generator)\n",
    "test_lab_2=get_labels(Y2,test_generator)\n",
    "\n",
    "train_lab_3=get_labels(Y3,train_generator)\n",
    "test_lab_3=get_labels(Y3,test_generator)\n",
    "\n",
    "train_lab_4=get_labels(Y4,train_generator)\n",
    "test_lab_4=get_labels(Y4,test_generator)\n",
    "\n",
    "train_lab_5=get_labels(Y5,train_generator)\n",
    "test_lab_5=get_labels(Y5,test_generator)\n",
    "\n",
    "train_lab_6=get_labels(Y6,train_generator)\n",
    "test_lab_6=get_labels(Y6,test_generator)\n"
   ]
  },
  {
   "cell_type": "code",
   "execution_count": 14,
   "metadata": {
    "collapsed": true
   },
   "outputs": [],
   "source": [
    "## get landmark labels \n",
    "\n",
    "landmarks=train_index[['lms']]\n",
    "\n",
    "def get_labels_lm(labels,generator):\n",
    "    # ex: all filenames of train_generator\n",
    "    get_list=generator.filenames\n",
    "    labs=labels.loc[get_list]\n",
    "    return np.array(list(labs))\n",
    "\n",
    "lm_train_labels=get_labels_lm(train_index.lms,train_generator)\n",
    "lm_test_labels=get_labels_lm(train_index.lms,test_generator)\n",
    "#lm_train_labels[:5]"
   ]
  },
  {
   "cell_type": "code",
   "execution_count": null,
   "metadata": {},
   "outputs": [],
   "source": [
    "5228/16"
   ]
  },
  {
   "cell_type": "code",
   "execution_count": 15,
   "metadata": {
    "collapsed": true
   },
   "outputs": [],
   "source": [
    "# now we have 21488\n",
    "def train_flow_from_directory(flow_from_directory_gen, list_of_values1,list_of_values2,list_of_values3,list_of_values4,\\\n",
    "                              list_of_values5,list_of_values6,list_of_values7):\n",
    "    # create infinite loop for labels, \n",
    "        \n",
    "    for i,x in enumerate(flow_from_directory_gen):\n",
    "        i = i%1343\n",
    "        # control for half of a batch\n",
    "        length=len(x[0])\n",
    "        yield(x[0],[list_of_values1[i*16:i*16+length],list_of_values2[i*16:i*16+length],\\\n",
    "                    list_of_values3[i*16:i*16+length],list_of_values4[i*16:i*16+length],\\\n",
    "                    list_of_values5[i*16:i*16+length],list_of_values6[i*16:i*16+length],\n",
    "                   list_of_values7[i*16:i*16+length]])"
   ]
  },
  {
   "cell_type": "code",
   "execution_count": 16,
   "metadata": {
    "collapsed": true
   },
   "outputs": [],
   "source": [
    "# now we have 5228\n",
    "def test_flow_from_directory(flow_from_directory_gen, list_of_values1,list_of_values2,list_of_values3,list_of_values4,\n",
    "                             list_of_values5,list_of_values6,list_of_values7):\n",
    "    # create infinite loop for labels, \n",
    "        \n",
    "    for i,x in enumerate(flow_from_directory_gen):\n",
    "        i = i%326\n",
    "        # control for half of a batch\n",
    "        length=len(x[0])\n",
    "        # outputs need to be in a list! \n",
    "        yield(x[0],[list_of_values1[i*16:i*16+length],list_of_values2[i*16:i*16+length],list_of_values3[i*16:i*16+length]\\\n",
    "                    ,list_of_values4[i*16:i*16+length],list_of_values5[i*16:i*16+length],list_of_values6[i*16:i*16+length],\n",
    "                   list_of_values7[i*16:i*16+length]])\n",
    "            \n",
    "#regression_flow_from_directory(train_generator, list_in_order)"
   ]
  },
  {
   "cell_type": "markdown",
   "metadata": {},
   "source": [
    "##### See Backward Pass & Losses\n",
    "backward pass: back-propagates the errors of four kinds of loss functions iteratively, \n",
    "A modified L2 regression loss is used to localize landmarks \n",
    "L = (summation)||vj*(actual-predicted)||^2\n",
    "vj~ vector of predicted landmarks\n",
    "\n",
    "In landmark visibility state, \"0\" represents visible;"
   ]
  },
  {
   "cell_type": "code",
   "execution_count": 17,
   "metadata": {
    "collapsed": true
   },
   "outputs": [],
   "source": [
    "# sweet: Keras will automatically read in predictions; \n",
    "\n",
    "\n",
    "def custom_objective(y_true, y_pred):\n",
    "    '''tailored cost function'''\n",
    "    \n",
    "    #get landmarks\n",
    "\n",
    "    pred_lm=y_pred[6]\n",
    "    true_lm=y_true[6]\n",
    "    \n",
    "    pred_lm=K.reshape(pred_lm,(6,2))\n",
    "    true_lm=K.reshape(true_lm,(6,2))\n",
    "    \n",
    "    \n",
    "    \n",
    "    # get visibility binaries\n",
    "    true_viz=y_true[:6]\n",
    "    \n",
    "    # predict if visible or not, if not visible, set landmark loss to zero\n",
    "    wins=K.argmax(true_viz,axis=1)\n",
    "    \n",
    "    #shapes : wins: (1,6), pred_lm: 6,2\n",
    "    loss=K.mean(K.square(K.dot(wins,(pred_lm-true_lm))))  # \n",
    "    \n",
    "    \n",
    "    \n",
    "    return loss"
   ]
  },
  {
   "cell_type": "code",
   "execution_count": 18,
   "metadata": {
    "collapsed": true
   },
   "outputs": [],
   "source": [
    "def custom_metric(y_true, y_pred):\n",
    "    return K.mean(K.square(y_true-y_pred))\n",
    "\n"
   ]
  },
  {
   "cell_type": "code",
   "execution_count": 19,
   "metadata": {
    "collapsed": true
   },
   "outputs": [],
   "source": [
    "from keras import backend as K\n",
    "\n",
    "def single_class_accuracy(interesting_class_id):\n",
    "    def fn(y_true, y_pred):\n",
    "        class_id_true = K.argmax(y_true, axis=-1)\n",
    "        class_id_preds = K.argmax(y_pred, axis=-1)\n",
    "        # Replace class_id_preds with class_id_true for recall here\n",
    "        accuracy_mask = K.cast(K.equal(class_id_preds, interesting_class_id), 'int32')\n",
    "        class_acc_tensor = K.cast(K.equal(class_id_true, class_id_preds), 'int32') * accuracy_mask\n",
    "        class_acc = K.sum(class_acc_tensor) / K.maximum(K.sum(accuracy_mask), 1)\n",
    "        return class_acc\n",
    "    return fn"
   ]
  },
  {
   "cell_type": "code",
   "execution_count": 20,
   "metadata": {
    "collapsed": true
   },
   "outputs": [],
   "source": [
    "# metrics : used to judge the performance (but classifier only makes changes based on )\n",
    "\n",
    "from keras.optimizers import SGD, Adam\n",
    "\n",
    "#losses=['sparse_categorical_crossentropy','sparse_categorical_crossentropy','sparse_categorical_crossentropy','sparse_categorical_crossentropy',custom_objective]\n",
    "\n",
    "losses=['binary_crossentropy','binary_crossentropy','binary_crossentropy','binary_crossentropy','binary_crossentropy',\n",
    "'binary_crossentropy', custom_objective]\n",
    "my_metrics=[single_class_accuracy(0)]\n",
    "#my_metrics=['accuracy','accuracy','accuracy','accuracy',custom_metric]\n",
    "\n",
    "\n",
    "#sgd = SGD( lr = 0.01, decay=1e-6, momentum=0.9, nesterov=True,clipnorm=1.0)\n",
    "adam=Adam(lr=0.001, beta_1=0.9, beta_2=0.999, epsilon=1e-08, decay=0.0)\n",
    "# try adding clipnorm, and clipvalue -- because gradients are going thru da roof\n",
    "\n",
    "model.compile(loss=losses,optimizer=adam,metrics=my_metrics)\n",
    "\n",
    "#metrics=my_metrics"
   ]
  },
  {
   "cell_type": "code",
   "execution_count": null,
   "metadata": {},
   "outputs": [],
   "source": [
    "keras.__version__"
   ]
  },
  {
   "cell_type": "code",
   "execution_count": null,
   "metadata": {},
   "outputs": [
    {
     "name": "stderr",
     "output_type": "stream",
     "text": [
      "/usr/local/lib/python2.7/dist-packages/ipykernel_launcher.py:9: UserWarning: The semantics of the Keras 2 argument `steps_per_epoch` is not the same as the Keras 1 argument `samples_per_epoch`. `steps_per_epoch` is the number of batches to draw from the generator at each epoch. Basically steps_per_epoch = samples_per_epoch/batch_size. Similarly `nb_val_samples`->`validation_steps` and `val_samples`->`steps` arguments have changed. Update your method calls accordingly.\n",
      "  if __name__ == '__main__':\n",
      "/usr/local/lib/python2.7/dist-packages/ipykernel_launcher.py:9: UserWarning: Update your `fit_generator` call to the Keras 2 API: `fit_generator(<generator..., validation_data=<generator..., steps_per_epoch=20000, epochs=20, callbacks=[<keras.ca..., validation_steps=5000)`\n",
      "  if __name__ == '__main__':\n"
     ]
    },
    {
     "name": "stdout",
     "output_type": "stream",
     "text": [
      "Epoch 1/20\n",
      "15428/20000 [======================>.......] - ETA: 3866s - loss: 10005424.0939 - visibility1_loss: 1.3574 - visibility2_loss: 1.2872 - visibility3_loss: 1.1485 - visibility4_loss: 2.5170 - visibility5_loss: 1.1412 - visibility6_loss: 2.2973 - landmarks_loss: 10005414.3454 - visibility1_fn: 0.3176 - visibility2_fn: 0.2588 - visibility3_fn: 0.1229 - visibility4_fn: 0.0516 - visibility5_fn: 0.0688 - visibility6_fn: 0.7975 - landmarks_fn: 8.0247e-05"
     ]
    }
   ],
   "source": [
    "## 8907, 1735\n",
    "\n",
    "filepath='weights.{epoch:02d}-{val_loss:.2f}.hdf5'\n",
    "mcp=keras.callbacks.ModelCheckpoint(filepath, monitor='val_loss', verbose=0, save_best_only=False, save_weights_only=False, mode='auto', period=1)\n",
    "\n",
    "cb2=keras.callbacks.RemoteMonitor(root='http://localhost:9001')\n",
    "callback=[mcp,cb2]\n",
    "test=model.fit_generator(train_flow_from_directory(train_generator, train_lab_1,train_lab_2,train_lab_3,train_lab_4,train_lab_5,train_lab_6, lm_train_labels),\\\n",
    "                         validation_data=test_flow_from_directory(test_generator, test_lab_1,test_lab_2,test_lab_3,test_lab_4,test_lab_5,test_lab_6,\\\n",
    "                                                                  lm_test_labels),\n",
    "                         nb_epoch=20,samples_per_epoch=20000, nb_val_samples=5000,callbacks=callback)\n"
   ]
  },
  {
   "cell_type": "code",
   "execution_count": null,
   "metadata": {
    "collapsed": true
   },
   "outputs": [],
   "source": []
  },
  {
   "cell_type": "code",
   "execution_count": null,
   "metadata": {
    "collapsed": true
   },
   "outputs": [],
   "source": []
  },
  {
   "cell_type": "code",
   "execution_count": 28,
   "metadata": {},
   "outputs": [
    {
     "data": {
      "text/html": [
       "<div>\n",
       "<table border=\"1\" class=\"dataframe\">\n",
       "  <thead>\n",
       "    <tr style=\"text-align: right;\">\n",
       "      <th></th>\n",
       "      <th>Unnamed: 0</th>\n",
       "      <th>image</th>\n",
       "      <th>Unnamed: 0.1</th>\n",
       "      <th>image_name</th>\n",
       "      <th>clothes_type</th>\n",
       "      <th>landmark_visibility_1</th>\n",
       "      <th>landmark_location_x_1</th>\n",
       "      <th>landmark_location_y_1</th>\n",
       "      <th>landmark_visibility_2</th>\n",
       "      <th>landmark_location_x_2</th>\n",
       "      <th>...</th>\n",
       "      <th>landmark_location_x_6</th>\n",
       "      <th>landmark_location_y_6</th>\n",
       "      <th>landmark_visibility_7</th>\n",
       "      <th>landmark_location_x_7</th>\n",
       "      <th>landmark_location_y_7</th>\n",
       "      <th>landmark_visibility_8</th>\n",
       "      <th>landmark_location_x_8</th>\n",
       "      <th>landmark_location_y_8</th>\n",
       "      <th>targets</th>\n",
       "      <th>lms_new</th>\n",
       "    </tr>\n",
       "  </thead>\n",
       "  <tbody>\n",
       "    <tr>\n",
       "      <th>14</th>\n",
       "      <td>14</td>\n",
       "      <td>Sheer_Pleated-Front_Blouse/img_00000015.jpg</td>\n",
       "      <td>14</td>\n",
       "      <td>img/Sheer_Pleated-Front_Blouse/img_00000015.jpg</td>\n",
       "      <td>1</td>\n",
       "      <td>1</td>\n",
       "      <td>101</td>\n",
       "      <td>6</td>\n",
       "      <td>1</td>\n",
       "      <td>123</td>\n",
       "      <td>...</td>\n",
       "      <td>141.0</td>\n",
       "      <td>268.0</td>\n",
       "      <td>NaN</td>\n",
       "      <td>NaN</td>\n",
       "      <td>NaN</td>\n",
       "      <td>NaN</td>\n",
       "      <td>NaN</td>\n",
       "      <td>NaN</td>\n",
       "      <td>[array([101,   6, 123,   4,  47, 225, 173, 220...</td>\n",
       "      <td>[101, 6, 123, 4, 47, 225, 173, 220]</td>\n",
       "    </tr>\n",
       "    <tr>\n",
       "      <th>83</th>\n",
       "      <td>83</td>\n",
       "      <td>Sheer_Pleated-Front_Blouse/img_00000084.jpg</td>\n",
       "      <td>83</td>\n",
       "      <td>img/Sheer_Pleated-Front_Blouse/img_00000084.jpg</td>\n",
       "      <td>1</td>\n",
       "      <td>1</td>\n",
       "      <td>114</td>\n",
       "      <td>38</td>\n",
       "      <td>1</td>\n",
       "      <td>131</td>\n",
       "      <td>...</td>\n",
       "      <td>151.0</td>\n",
       "      <td>222.0</td>\n",
       "      <td>NaN</td>\n",
       "      <td>NaN</td>\n",
       "      <td>NaN</td>\n",
       "      <td>NaN</td>\n",
       "      <td>NaN</td>\n",
       "      <td>NaN</td>\n",
       "      <td>[array([114,  38, 131,  37,  79,  53, 169,  61...</td>\n",
       "      <td>[114, 38, 131, 37, 79, 53, 169, 61]</td>\n",
       "    </tr>\n",
       "    <tr>\n",
       "      <th>123</th>\n",
       "      <td>123</td>\n",
       "      <td>Sheer_Pleated-Front_Blouse/img_00000124.jpg</td>\n",
       "      <td>123</td>\n",
       "      <td>img/Sheer_Pleated-Front_Blouse/img_00000124.jpg</td>\n",
       "      <td>1</td>\n",
       "      <td>1</td>\n",
       "      <td>130</td>\n",
       "      <td>104</td>\n",
       "      <td>1</td>\n",
       "      <td>171</td>\n",
       "      <td>...</td>\n",
       "      <td>175.0</td>\n",
       "      <td>274.0</td>\n",
       "      <td>NaN</td>\n",
       "      <td>NaN</td>\n",
       "      <td>NaN</td>\n",
       "      <td>NaN</td>\n",
       "      <td>NaN</td>\n",
       "      <td>NaN</td>\n",
       "      <td>[array([130, 104, 171, 108,  90, 263, 206, 229...</td>\n",
       "      <td>[130, 104, 171, 108, 90, 263, 206, 229]</td>\n",
       "    </tr>\n",
       "  </tbody>\n",
       "</table>\n",
       "<p>3 rows × 31 columns</p>\n",
       "</div>"
      ],
      "text/plain": [
       "     Unnamed: 0                                        image  Unnamed: 0.1  \\\n",
       "14           14  Sheer_Pleated-Front_Blouse/img_00000015.jpg            14   \n",
       "83           83  Sheer_Pleated-Front_Blouse/img_00000084.jpg            83   \n",
       "123         123  Sheer_Pleated-Front_Blouse/img_00000124.jpg           123   \n",
       "\n",
       "                                          image_name  clothes_type  \\\n",
       "14   img/Sheer_Pleated-Front_Blouse/img_00000015.jpg             1   \n",
       "83   img/Sheer_Pleated-Front_Blouse/img_00000084.jpg             1   \n",
       "123  img/Sheer_Pleated-Front_Blouse/img_00000124.jpg             1   \n",
       "\n",
       "     landmark_visibility_1  landmark_location_x_1  landmark_location_y_1  \\\n",
       "14                       1                    101                      6   \n",
       "83                       1                    114                     38   \n",
       "123                      1                    130                    104   \n",
       "\n",
       "     landmark_visibility_2  landmark_location_x_2  \\\n",
       "14                       1                    123   \n",
       "83                       1                    131   \n",
       "123                      1                    171   \n",
       "\n",
       "                      ...                     landmark_location_x_6  \\\n",
       "14                    ...                                     141.0   \n",
       "83                    ...                                     151.0   \n",
       "123                   ...                                     175.0   \n",
       "\n",
       "     landmark_location_y_6  landmark_visibility_7  landmark_location_x_7  \\\n",
       "14                   268.0                    NaN                    NaN   \n",
       "83                   222.0                    NaN                    NaN   \n",
       "123                  274.0                    NaN                    NaN   \n",
       "\n",
       "     landmark_location_y_7  landmark_visibility_8  landmark_location_x_8  \\\n",
       "14                     NaN                    NaN                    NaN   \n",
       "83                     NaN                    NaN                    NaN   \n",
       "123                    NaN                    NaN                    NaN   \n",
       "\n",
       "     landmark_location_y_8                                            targets  \\\n",
       "14                     NaN  [array([101,   6, 123,   4,  47, 225, 173, 220...   \n",
       "83                     NaN  [array([114,  38, 131,  37,  79,  53, 169,  61...   \n",
       "123                    NaN  [array([130, 104, 171, 108,  90, 263, 206, 229...   \n",
       "\n",
       "                                     lms_new  \n",
       "14       [101, 6, 123, 4, 47, 225, 173, 220]  \n",
       "83       [114, 38, 131, 37, 79, 53, 169, 61]  \n",
       "123  [130, 104, 171, 108, 90, 263, 206, 229]  \n",
       "\n",
       "[3 rows x 31 columns]"
      ]
     },
     "execution_count": 28,
     "metadata": {},
     "output_type": "execute_result"
    }
   ],
   "source": [
    "# We have subset on clothes_type: upper (collars, and sleeves)\n",
    "\n",
    "test=train_index[(train_index.landmark_visibility_3==0)&(train_index.landmark_visibility_4==0)]\n",
    "test.head(3)"
   ]
  },
  {
   "cell_type": "code",
   "execution_count": 27,
   "metadata": {},
   "outputs": [
    {
     "data": {
      "image/png": "[encoded data removed]",
      "text/plain": [
       "<matplotlib.figure.Figure at 0x7f30a123b290>"
      ]
     },
     "metadata": {},
     "output_type": "display_data"
    }
   ],
   "source": [
    "from scipy import ndimage\n",
    "base='/home/icarus/mount_data/'\n",
    "\n",
    "img=ndimage.imread(base+'img/Sheer_Pleated-Front_Blouse/img_00000002.jpg')\n",
    "plt.imshow(img)\n",
    "plt.show()"
   ]
  },
  {
   "cell_type": "code",
   "execution_count": null,
   "metadata": {
    "collapsed": true
   },
   "outputs": [],
   "source": [
    "## ISSUES: \n",
    "\n",
    "#  keras returning loss ~ nan , \n",
    "\n",
    "# solved it by changing the floatx value in ~/.keras/keras.json from float32 to float64. (tested on GPU)\n",
    "# running slower, but now getting Loss values returned\n"
   ]
  }
 ],
 "metadata": {
  "anaconda-cloud": {},
  "kernelspec": {
   "display_name": "Python 2",
   "language": "python",
   "name": "python2"
  },
  "language_info": {
   "codemirror_mode": {
    "name": "ipython",
    "version": 2
   },
   "file_extension": ".py",
   "mimetype": "text/x-python",
   "name": "python",
   "nbconvert_exporter": "python",
   "pygments_lexer": "ipython2",
   "version": "2.7.12"
  }
 },
 "nbformat": 4,
 "nbformat_minor": 1
}
